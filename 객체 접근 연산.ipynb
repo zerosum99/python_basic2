{
  "nbformat": 4,
  "nbformat_minor": 0,
  "metadata": {
    "colab": {
      "name": "객체 접근 연산.ipynb",
      "version": "0.3.2",
      "provenance": [],
      "include_colab_link": true
    },
    "language_info": {
      "codemirror_mode": {
        "name": "ipython",
        "version": 3
      },
      "file_extension": ".py",
      "mimetype": "text/x-python",
      "name": "python",
      "nbconvert_exporter": "python",
      "pygments_lexer": "ipython3",
      "version": "3.6.7"
    },
    "kernelspec": {
      "display_name": "Python 3",
      "language": "python",
      "name": "python3"
    }
  },
  "cells": [
    {
      "cell_type": "markdown",
      "metadata": {
        "id": "view-in-github",
        "colab_type": "text"
      },
      "source": [
        "<a href=\"https://colab.research.google.com/github/zerosum99/python_basic2/blob/master/%EA%B0%9D%EC%B2%B4%20%EC%A0%91%EA%B7%BC%20%EC%97%B0%EC%82%B0.ipynb\" target=\"_parent\"><img src=\"https://colab.research.google.com/assets/colab-badge.svg\" alt=\"Open In Colab\"/></a>"
      ]
    },
    {
      "cell_type": "code",
      "metadata": {
        "id": "lMLib4Jg5mVp",
        "colab_type": "code",
        "colab": {}
      },
      "source": [
        "class UserType(type) :\n",
        "    \n",
        "    def __getattribute__(self,x) :\n",
        "        print(\"메타클래스 접근\")\n",
        "        return object.__getattribute__(self, x)"
      ],
      "execution_count": 0,
      "outputs": []
    },
    {
      "cell_type": "code",
      "metadata": {
        "id": "hP77zAeD5mVu",
        "colab_type": "code",
        "colab": {}
      },
      "source": [
        "class UserType_(type) :\n",
        "    \n",
        "    def __getattribute__(self,x) :\n",
        "        print(\"메타클래스 접근\")\n",
        "        \n",
        "        return super(type(self), self).__getattribute__(x)"
      ],
      "execution_count": 0,
      "outputs": []
    },
    {
      "cell_type": "code",
      "metadata": {
        "id": "D6eyDgez5mVx",
        "colab_type": "code",
        "colab": {}
      },
      "source": [
        "class A(metaclass=UserType_) :\n",
        "    a = \"100\"\n",
        "    def __getattribute__(self,x) :\n",
        "        print(\"클래스 접근\")\n",
        "        return object.__getattribute__(self, x)\n"
      ],
      "execution_count": 0,
      "outputs": []
    },
    {
      "cell_type": "code",
      "metadata": {
        "id": "EvVgwBJm5mV0",
        "colab_type": "code",
        "colab": {
          "base_uri": "https://localhost:8080/",
          "height": 51
        },
        "outputId": "13d259f8-fa09-4772-951d-1ea303fd2f15"
      },
      "source": [
        "A.a"
      ],
      "execution_count": 8,
      "outputs": [
        {
          "output_type": "stream",
          "text": [
            "메타클래스 접근\n"
          ],
          "name": "stdout"
        },
        {
          "output_type": "execute_result",
          "data": {
            "text/plain": [
              "'100'"
            ]
          },
          "metadata": {
            "tags": []
          },
          "execution_count": 8
        }
      ]
    },
    {
      "cell_type": "code",
      "metadata": {
        "id": "-NADbRQT5mV4",
        "colab_type": "code",
        "colab": {}
      },
      "source": [
        "a = A()"
      ],
      "execution_count": 0,
      "outputs": []
    },
    {
      "cell_type": "code",
      "metadata": {
        "id": "XS3A3Zoy5mV8",
        "colab_type": "code",
        "colab": {}
      },
      "source": [
        ""
      ],
      "execution_count": 0,
      "outputs": []
    },
    {
      "cell_type": "code",
      "metadata": {
        "id": "fjgdExUh5mV_",
        "colab_type": "code",
        "colab": {
          "base_uri": "https://localhost:8080/",
          "height": 51
        },
        "outputId": "82fd3a6e-5bb2-4779-b6e9-011bbeef9093"
      },
      "source": [
        "a.a"
      ],
      "execution_count": 10,
      "outputs": [
        {
          "output_type": "stream",
          "text": [
            "클래스 접근\n"
          ],
          "name": "stdout"
        },
        {
          "output_type": "execute_result",
          "data": {
            "text/plain": [
              "'100'"
            ]
          },
          "metadata": {
            "tags": []
          },
          "execution_count": 10
        }
      ]
    },
    {
      "cell_type": "code",
      "metadata": {
        "id": "wS2XtMVY5mWE",
        "colab_type": "code",
        "colab": {
          "base_uri": "https://localhost:8080/",
          "height": 799
        },
        "outputId": "ed8fd230-d11c-4aef-eebb-b2b326526a38"
      },
      "source": [
        "help(super)"
      ],
      "execution_count": 11,
      "outputs": [
        {
          "output_type": "stream",
          "text": [
            "Help on class super in module builtins:\n",
            "\n",
            "class super(object)\n",
            " |  super() -> same as super(__class__, <first argument>)\n",
            " |  super(type) -> unbound super object\n",
            " |  super(type, obj) -> bound super object; requires isinstance(obj, type)\n",
            " |  super(type, type2) -> bound super object; requires issubclass(type2, type)\n",
            " |  Typical use to call a cooperative superclass method:\n",
            " |  class C(B):\n",
            " |      def meth(self, arg):\n",
            " |          super().meth(arg)\n",
            " |  This works for class methods too:\n",
            " |  class C(B):\n",
            " |      @classmethod\n",
            " |      def cmeth(cls, arg):\n",
            " |          super().cmeth(arg)\n",
            " |  \n",
            " |  Methods defined here:\n",
            " |  \n",
            " |  __get__(self, instance, owner, /)\n",
            " |      Return an attribute of instance, which is of type owner.\n",
            " |  \n",
            " |  __getattribute__(self, name, /)\n",
            " |      Return getattr(self, name).\n",
            " |  \n",
            " |  __init__(self, /, *args, **kwargs)\n",
            " |      Initialize self.  See help(type(self)) for accurate signature.\n",
            " |  \n",
            " |  __new__(*args, **kwargs) from builtins.type\n",
            " |      Create and return a new object.  See help(type) for accurate signature.\n",
            " |  \n",
            " |  __repr__(self, /)\n",
            " |      Return repr(self).\n",
            " |  \n",
            " |  ----------------------------------------------------------------------\n",
            " |  Data descriptors defined here:\n",
            " |  \n",
            " |  __self__\n",
            " |      the instance invoking super(); may be None\n",
            " |  \n",
            " |  __self_class__\n",
            " |      the type of the instance invoking super(); may be None\n",
            " |  \n",
            " |  __thisclass__\n",
            " |      the class invoking super()\n",
            "\n"
          ],
          "name": "stdout"
        }
      ]
    },
    {
      "cell_type": "code",
      "metadata": {
        "id": "QakMj21T5mWH",
        "colab_type": "code",
        "colab": {}
      },
      "source": [
        ""
      ],
      "execution_count": 0,
      "outputs": []
    }
  ]
}