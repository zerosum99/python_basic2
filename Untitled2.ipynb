{
 "cells": [
  {
   "cell_type": "code",
   "execution_count": 2,
   "metadata": {},
   "outputs": [],
   "source": [
    "import tensorflow as tf"
   ]
  },
  {
   "cell_type": "code",
   "execution_count": 4,
   "metadata": {},
   "outputs": [
    {
     "data": {
      "text/plain": [
       "'1.4.0'"
      ]
     },
     "execution_count": 4,
     "metadata": {},
     "output_type": "execute_result"
    }
   ],
   "source": [
    "tf.__version__"
   ]
  },
  {
   "cell_type": "code",
   "execution_count": 5,
   "metadata": {},
   "outputs": [
    {
     "name": "stdout",
     "output_type": "stream",
     "text": [
      "/bin/sh: pip3: command not found\r\n"
     ]
    }
   ],
   "source": [
    "!pip3 install --upgrade tensorflow"
   ]
  },
  {
   "cell_type": "code",
   "execution_count": 6,
   "metadata": {},
   "outputs": [
    {
     "name": "stdout",
     "output_type": "stream",
     "text": [
      "Collecting tensorflow\n",
      "\u001b[?25l  Downloading https://files.pythonhosted.org/packages/03/ad/d732a5d9d50bfcd8aeb6e4a266065a8868829388e4e2b529ff689f1fc923/tensorflow-1.8.0-cp36-cp36m-macosx_10_11_x86_64.whl (46.5MB)\n",
      "\u001b[K    100% |████████████████████████████████| 46.5MB 69kB/s ta 0:00:011    74% |████████████████████████        | 34.8MB 61kB/s eta 0:03:10\n",
      "\u001b[?25hCollecting tensorboard<1.9.0,>=1.8.0 (from tensorflow)\n",
      "\u001b[?25l  Downloading https://files.pythonhosted.org/packages/59/a6/0ae6092b7542cfedba6b2a1c9b8dceaf278238c39484f3ba03b03f07803c/tensorboard-1.8.0-py3-none-any.whl (3.1MB)\n",
      "\u001b[K    100% |████████████████████████████████| 3.1MB 137kB/s ta 0:00:01\n",
      "\u001b[?25hCollecting astor>=0.6.0 (from tensorflow)\n",
      "  Downloading https://files.pythonhosted.org/packages/b2/91/cc9805f1ff7b49f620136b3a7ca26f6a1be2ed424606804b0fbcf499f712/astor-0.6.2-py2.py3-none-any.whl\n",
      "Requirement not upgraded as not directly required: six>=1.10.0 in ./anaconda/lib/python3.6/site-packages (from tensorflow) (1.11.0)\n",
      "Collecting grpcio>=1.8.6 (from tensorflow)\n",
      "\u001b[?25l  Downloading https://files.pythonhosted.org/packages/e3/c4/b984569ed8ccca0da7e4798632344243d41240908c338fb4c60d26d0af06/grpcio-1.12.0-cp36-cp36m-macosx_10_7_intel.whl (1.9MB)\n",
      "\u001b[K    100% |████████████████████████████████| 1.9MB 78kB/s ta 0:00:011\n",
      "\u001b[?25hCollecting gast>=0.2.0 (from tensorflow)\n",
      "  Downloading https://files.pythonhosted.org/packages/5c/78/ff794fcae2ce8aa6323e789d1f8b3b7765f601e7702726f430e814822b96/gast-0.2.0.tar.gz\n",
      "Collecting absl-py>=0.1.6 (from tensorflow)\n",
      "\u001b[?25l  Downloading https://files.pythonhosted.org/packages/57/8d/6664518f9b6ced0aa41cf50b989740909261d4c212557400c48e5cda0804/absl-py-0.2.2.tar.gz (82kB)\n",
      "\u001b[K    100% |████████████████████████████████| 92kB 49kB/s ta 0:00:01\n",
      "\u001b[?25hRequirement not upgraded as not directly required: protobuf>=3.4.0 in ./anaconda/lib/python3.6/site-packages (from tensorflow) (3.5.0.post1)\n",
      "Requirement not upgraded as not directly required: wheel>=0.26 in ./anaconda/lib/python3.6/site-packages (from tensorflow) (0.31.1)\n",
      "Requirement not upgraded as not directly required: termcolor>=1.1.0 in ./anaconda/lib/python3.6/site-packages (from tensorflow) (1.1.0)\n",
      "Requirement not upgraded as not directly required: numpy>=1.13.3 in ./anaconda/lib/python3.6/site-packages (from tensorflow) (1.13.3)\n",
      "Requirement not upgraded as not directly required: werkzeug>=0.11.10 in ./anaconda/lib/python3.6/site-packages (from tensorboard<1.9.0,>=1.8.0->tensorflow) (0.14.1)\n",
      "Requirement not upgraded as not directly required: markdown>=2.6.8 in ./anaconda/lib/python3.6/site-packages (from tensorboard<1.9.0,>=1.8.0->tensorflow) (2.6.9)\n",
      "Collecting bleach==1.5.0 (from tensorboard<1.9.0,>=1.8.0->tensorflow)\n",
      "  Downloading https://files.pythonhosted.org/packages/33/70/86c5fec937ea4964184d4d6c4f0b9551564f821e1c3575907639036d9b90/bleach-1.5.0-py2.py3-none-any.whl\n",
      "Collecting html5lib==0.9999999 (from tensorboard<1.9.0,>=1.8.0->tensorflow)\n",
      "\u001b[?25l  Downloading https://files.pythonhosted.org/packages/ae/ae/bcb60402c60932b32dfaf19bb53870b29eda2cd17551ba5639219fb5ebf9/html5lib-0.9999999.tar.gz (889kB)\n",
      "\u001b[K    100% |████████████████████████████████| 890kB 217kB/s ta 0:00:01\n",
      "\u001b[?25hRequirement not upgraded as not directly required: setuptools in ./anaconda/lib/python3.6/site-packages (from protobuf>=3.4.0->tensorflow) (39.2.0)\n",
      "Building wheels for collected packages: gast, absl-py, html5lib\n",
      "  Running setup.py bdist_wheel for gast ... \u001b[?25ldone\n",
      "\u001b[?25h  Stored in directory: /Users/dahlmoon/Library/Caches/pip/wheels/9a/1f/0e/3cde98113222b853e98fc0a8e9924480a3e25f1b4008cedb4f\n",
      "  Running setup.py bdist_wheel for absl-py ... \u001b[?25ldone\n",
      "\u001b[?25h  Stored in directory: /Users/dahlmoon/Library/Caches/pip/wheels/a0/f8/e9/1933dbb3447ea6ef57062fd5461cb118deb8c2ed074e8344bf\n",
      "  Running setup.py bdist_wheel for html5lib ... \u001b[?25ldone\n",
      "\u001b[?25h  Stored in directory: /Users/dahlmoon/Library/Caches/pip/wheels/50/ae/f9/d2b189788efcf61d1ee0e36045476735c838898eef1cad6e29\n",
      "Successfully built gast absl-py html5lib\n",
      "\u001b[31mdistributed 1.21.8 requires msgpack, which is not installed.\u001b[0m\n",
      "\u001b[31mthinc 6.5.2 has requirement cytoolz<0.9,>=0.8, but you'll have cytoolz 0.9.0.1 which is incompatible.\u001b[0m\n",
      "\u001b[31mspacy 1.9.0 has requirement pip<10.0.0,>=9.0.0, but you'll have pip 10.0.1 which is incompatible.\u001b[0m\n",
      "Installing collected packages: html5lib, bleach, tensorboard, astor, grpcio, gast, absl-py, tensorflow\n",
      "  Found existing installation: html5lib 1.0.1\n",
      "    Uninstalling html5lib-1.0.1:\n",
      "      Successfully uninstalled html5lib-1.0.1\n",
      "  Found existing installation: bleach 2.1.3\n",
      "    Uninstalling bleach-2.1.3:\n",
      "      Successfully uninstalled bleach-2.1.3\n",
      "  Found existing installation: tensorboard 1.0.0a6\n",
      "    Uninstalling tensorboard-1.0.0a6:\n",
      "      Successfully uninstalled tensorboard-1.0.0a6\n",
      "  Found existing installation: absl-py 0.1.5\n",
      "    Uninstalling absl-py-0.1.5:\n",
      "      Successfully uninstalled absl-py-0.1.5\n",
      "  Found existing installation: tensorflow 1.4.0\n",
      "    Uninstalling tensorflow-1.4.0:\n",
      "      Successfully uninstalled tensorflow-1.4.0\n",
      "Successfully installed absl-py-0.2.2 astor-0.6.2 bleach-1.5.0 gast-0.2.0 grpcio-1.12.0 html5lib-0.9999999 tensorboard-1.8.0 tensorflow-1.8.0\n"
     ]
    }
   ],
   "source": [
    "!pip install --upgrade tensorflow"
   ]
  },
  {
   "cell_type": "code",
   "execution_count": 7,
   "metadata": {},
   "outputs": [],
   "source": [
    "import os"
   ]
  },
  {
   "cell_type": "code",
   "execution_count": 8,
   "metadata": {},
   "outputs": [
    {
     "name": "stdout",
     "output_type": "stream",
     "text": [
      "Requirement already up-to-date: pip in ./anaconda/lib/python3.6/site-packages (10.0.1)\n",
      "\u001b[31mdistributed 1.21.8 requires msgpack, which is not installed.\u001b[0m\n",
      "\u001b[31mthinc 6.5.2 has requirement cytoolz<0.9,>=0.8, but you'll have cytoolz 0.9.0.1 which is incompatible.\u001b[0m\n",
      "\u001b[31mspacy 1.9.0 has requirement pip<10.0.0,>=9.0.0, but you'll have pip 10.0.1 which is incompatible.\u001b[0m\n"
     ]
    }
   ],
   "source": [
    "!pip install --upgrade pip"
   ]
  },
  {
   "cell_type": "code",
   "execution_count": 9,
   "metadata": {},
   "outputs": [
    {
     "name": "stdout",
     "output_type": "stream",
     "text": [
      "Collecting multiprocessing\n",
      "  Using cached https://files.pythonhosted.org/packages/b8/8a/38187040f36cec8f98968502992dca9b00cc5e88553e01884ba29cbe6aac/multiprocessing-2.6.2.1.tar.gz\n",
      "    Complete output from command python setup.py egg_info:\n",
      "    Traceback (most recent call last):\n",
      "      File \"<string>\", line 1, in <module>\n",
      "      File \"/private/var/folders/n1/cmjcsydn16g4700_hz9tlf3m0000gn/T/pip-install-ag2sy7t8/multiprocessing/setup.py\", line 94\n",
      "        print 'Macros:'\n",
      "                      ^\n",
      "    SyntaxError: Missing parentheses in call to 'print'. Did you mean print('Macros:')?\n",
      "    \n",
      "    ----------------------------------------\n",
      "\u001b[31mCommand \"python setup.py egg_info\" failed with error code 1 in /private/var/folders/n1/cmjcsydn16g4700_hz9tlf3m0000gn/T/pip-install-ag2sy7t8/multiprocessing/\u001b[0m\n"
     ]
    }
   ],
   "source": [
    "!pip install multiprocessing"
   ]
  },
  {
   "cell_type": "code",
   "execution_count": 10,
   "metadata": {},
   "outputs": [
    {
     "name": "stdout",
     "output_type": "stream",
     "text": [
      "Collecting multiprocess\n",
      "\u001b[?25l  Downloading https://files.pythonhosted.org/packages/65/03/bd8ac79948049b5a0f7ee5f2642f76dbb2d9cb83cc5433dfb2112f89d69a/multiprocess-0.70.5.zip (1.5MB)\n",
      "\u001b[K    100% |████████████████████████████████| 1.5MB 121kB/s a 0:00:013\n",
      "\u001b[?25hRequirement already satisfied: dill>=0.2.6 in ./anaconda/lib/python3.6/site-packages (from multiprocess) (0.2.7.1)\n",
      "Building wheels for collected packages: multiprocess\n",
      "  Running setup.py bdist_wheel for multiprocess ... \u001b[?25ldone\n",
      "\u001b[?25h  Stored in directory: /Users/dahlmoon/Library/Caches/pip/wheels/85/44/92/7635fa709a1e88a4dca84eba3d1566fc0e2b001d4d84f40d35\n",
      "Successfully built multiprocess\n",
      "\u001b[31mdistributed 1.21.8 requires msgpack, which is not installed.\u001b[0m\n",
      "\u001b[31mthinc 6.5.2 has requirement cytoolz<0.9,>=0.8, but you'll have cytoolz 0.9.0.1 which is incompatible.\u001b[0m\n",
      "\u001b[31mspacy 1.9.0 has requirement pip<10.0.0,>=9.0.0, but you'll have pip 10.0.1 which is incompatible.\u001b[0m\n",
      "Installing collected packages: multiprocess\n",
      "Successfully installed multiprocess-0.70.5\n"
     ]
    }
   ],
   "source": [
    "!pip install multiprocess"
   ]
  },
  {
   "cell_type": "code",
   "execution_count": 11,
   "metadata": {},
   "outputs": [
    {
     "name": "stdout",
     "output_type": "stream",
     "text": [
      "Collecting msgpack\n",
      "\u001b[?25l  Downloading https://files.pythonhosted.org/packages/f3/b6/9affbea179c3c03a0eb53515d9ce404809a122f76bee8fc8c6ec9497f51f/msgpack-0.5.6.tar.gz (138kB)\n",
      "\u001b[K    100% |████████████████████████████████| 143kB 895kB/s ta 0:00:01\n",
      "\u001b[?25hBuilding wheels for collected packages: msgpack\n",
      "  Running setup.py bdist_wheel for msgpack ... \u001b[?25ldone\n",
      "\u001b[?25h  Stored in directory: /Users/dahlmoon/Library/Caches/pip/wheels/f0/02/4c/525b56fce78c415eb8066f6554f9de02792df26b8f882f6d65\n",
      "Successfully built msgpack\n",
      "\u001b[31mthinc 6.5.2 has requirement cytoolz<0.9,>=0.8, but you'll have cytoolz 0.9.0.1 which is incompatible.\u001b[0m\n",
      "\u001b[31mspacy 1.9.0 has requirement pip<10.0.0,>=9.0.0, but you'll have pip 10.0.1 which is incompatible.\u001b[0m\n",
      "Installing collected packages: msgpack\n",
      "Successfully installed msgpack-0.5.6\n"
     ]
    }
   ],
   "source": [
    "!pip install msgpack"
   ]
  },
  {
   "cell_type": "code",
   "execution_count": 13,
   "metadata": {},
   "outputs": [
    {
     "name": "stdout",
     "output_type": "stream",
     "text": [
      "Collecting thinc\n",
      "\u001b[?25l  Downloading https://files.pythonhosted.org/packages/eb/8e/d483f3e613a520f7699a8cca11dc1ac3a633b690d51fb977e0ac388553a4/thinc-6.11.2.tar.gz (11.5MB)\n",
      "\u001b[K    100% |████████████████████████████████| 11.5MB 177kB/s ta 0:00:01\n",
      "\u001b[?25hRequirement not upgraded as not directly required: numpy>=1.7 in ./anaconda/lib/python3.6/site-packages (from thinc) (1.13.3)\n",
      "Collecting murmurhash<0.29,>=0.28 (from thinc)\n",
      "  Downloading https://files.pythonhosted.org/packages/5e/31/c8c1ecafa44db30579c8c457ac7a0f819e8b1dbc3e58308394fff5ff9ba7/murmurhash-0.28.0.tar.gz\n",
      "Requirement not upgraded as not directly required: cymem<1.32.0,>=1.30 in ./anaconda/lib/python3.6/site-packages (from thinc) (1.31.2)\n",
      "Requirement not upgraded as not directly required: preshed<2.0.0,>=1.0.0 in ./anaconda/lib/python3.6/site-packages (from thinc) (1.0.0)\n",
      "Collecting hypothesis<3,>=2 (from thinc)\n",
      "\u001b[?25l  Downloading https://files.pythonhosted.org/packages/a8/5a/5cf074e1c6681dcbb4e640113f58bed16955e7da9a6c8090b518031775e7/hypothesis-2.0.0.tar.gz (76kB)\n",
      "\u001b[K    100% |████████████████████████████████| 81kB 111kB/s ta 0:00:01\n",
      "\u001b[?25hRequirement not upgraded as not directly required: tqdm<5.0.0,>=4.10.0 in ./anaconda/lib/python3.6/site-packages (from thinc) (4.15.0)\n",
      "Requirement not upgraded as not directly required: plac<1.0,>=0.9 in ./anaconda/lib/python3.6/site-packages (from thinc) (0.9.6)\n",
      "Requirement not upgraded as not directly required: termcolor<1.2.0,>=1.1.0 in ./anaconda/lib/python3.6/site-packages (from thinc) (1.1.0)\n",
      "Requirement not upgraded as not directly required: wrapt<1.11.0,>=1.10.0 in ./anaconda/lib/python3.6/site-packages (from thinc) (1.10.11)\n",
      "Requirement not upgraded as not directly required: dill<0.3,>=0.2.7 in ./anaconda/lib/python3.6/site-packages (from thinc) (0.2.7.1)\n",
      "Requirement not upgraded as not directly required: pathlib<2.0.0,>=1.0.0 in ./anaconda/lib/python3.6/site-packages (from thinc) (1.0.1)\n",
      "Collecting msgpack-python==0.5.4 (from thinc)\n",
      "  Downloading https://files.pythonhosted.org/packages/8b/b8/3ab1585ec7ac02afff2427d5727b922d2907466edd932d98002f0a18c29a/msgpack-python-0.5.4.tar.gz\n",
      "Collecting msgpack-numpy==0.4.1 (from thinc)\n",
      "  Downloading https://files.pythonhosted.org/packages/2e/43/393e30e2768b0357541ac95891f96b80ccc4d517e0dd2fa3042fc8926538/msgpack_numpy-0.4.1-py2.py3-none-any.whl\n",
      "Requirement not upgraded as not directly required: six in ./anaconda/lib/python3.6/site-packages (from thinc) (1.11.0)\n",
      "Requirement not upgraded as not directly required: cytoolz in ./anaconda/lib/python3.6/site-packages (from thinc) (0.9.0.1)\n",
      "Requirement not upgraded as not directly required: toolz>=0.8.0 in ./anaconda/lib/python3.6/site-packages (from cytoolz->thinc) (0.9.0)\n",
      "Building wheels for collected packages: thinc, murmurhash, hypothesis, msgpack-python\n",
      "  Running setup.py bdist_wheel for thinc ... \u001b[?25ldone\n",
      "\u001b[?25h  Stored in directory: /Users/dahlmoon/Library/Caches/pip/wheels/f6/06/79/bfb440b8ab1eb00bc116d8e1845a032dcc144cc6933f03a49b\n",
      "  Running setup.py bdist_wheel for murmurhash ... \u001b[?25ldone\n",
      "\u001b[?25h  Stored in directory: /Users/dahlmoon/Library/Caches/pip/wheels/b8/94/a4/f69f8664cdc1098603df44771b7fec5fd1b3d8364cdd83f512\n",
      "  Running setup.py bdist_wheel for hypothesis ... \u001b[?25ldone\n",
      "\u001b[?25h  Stored in directory: /Users/dahlmoon/Library/Caches/pip/wheels/ff/6d/23/efba0d5f717baec2323a0416fa739a6fa92da25f882a855b6b\n",
      "  Running setup.py bdist_wheel for msgpack-python ... \u001b[?25ldone\n",
      "\u001b[?25h  Stored in directory: /Users/dahlmoon/Library/Caches/pip/wheels/f5/52/33/f49e5fca0bd22a9c0d7ab85320f2d0e6ff5fe49cec948d673a\n",
      "Successfully built thinc murmurhash hypothesis msgpack-python\n",
      "\u001b[31mspacy 1.9.0 has requirement murmurhash<0.27,>=0.26, but you'll have murmurhash 0.28.0 which is incompatible.\u001b[0m\n",
      "\u001b[31mspacy 1.9.0 has requirement pip<10.0.0,>=9.0.0, but you'll have pip 10.0.1 which is incompatible.\u001b[0m\n",
      "\u001b[31mspacy 1.9.0 has requirement thinc<6.6.0,>=6.5.0, but you'll have thinc 6.11.2 which is incompatible.\u001b[0m\n",
      "Installing collected packages: murmurhash, hypothesis, msgpack-python, msgpack-numpy, thinc\n",
      "  Found existing installation: murmurhash 0.26.4\n",
      "    Uninstalling murmurhash-0.26.4:\n",
      "      Successfully uninstalled murmurhash-0.26.4\n",
      "  Found existing installation: msgpack-python 0.5.6\n",
      "    Uninstalling msgpack-python-0.5.6:\n",
      "      Successfully uninstalled msgpack-python-0.5.6\n",
      "  Found existing installation: thinc 6.5.2\n",
      "    Uninstalling thinc-6.5.2:\n",
      "      Successfully uninstalled thinc-6.5.2\n",
      "Successfully installed hypothesis-2.0.0 msgpack-numpy-0.4.1 msgpack-python-0.5.4 murmurhash-0.28.0 thinc-6.11.2\n"
     ]
    }
   ],
   "source": [
    "!pip install --upgrade thinc"
   ]
  },
  {
   "cell_type": "code",
   "execution_count": 14,
   "metadata": {},
   "outputs": [
    {
     "name": "stdout",
     "output_type": "stream",
     "text": [
      "Collecting spacy\n",
      "\u001b[?25l  Downloading https://files.pythonhosted.org/packages/3c/31/e60f88751e48851b002f78a35221d12300783d5a43d4ef12fbf10cca96c3/spacy-2.0.11.tar.gz (17.6MB)\n",
      "\u001b[K    100% |████████████████████████████████| 17.6MB 213kB/s ta 0:00:01\n",
      "\u001b[?25hRequirement not upgraded as not directly required: numpy>=1.7 in ./anaconda/lib/python3.6/site-packages (from spacy) (1.13.3)\n",
      "Requirement not upgraded as not directly required: murmurhash<0.29,>=0.28 in ./anaconda/lib/python3.6/site-packages (from spacy) (0.28.0)\n",
      "Requirement not upgraded as not directly required: cymem<1.32,>=1.30 in ./anaconda/lib/python3.6/site-packages (from spacy) (1.31.2)\n",
      "Requirement not upgraded as not directly required: preshed<2.0.0,>=1.0.0 in ./anaconda/lib/python3.6/site-packages (from spacy) (1.0.0)\n",
      "Collecting thinc<6.11.0,>=6.10.1 (from spacy)\n",
      "\u001b[?25l  Downloading https://files.pythonhosted.org/packages/55/fd/e9f36081e6f53699943381858848f3b4d759e0dd03c43b98807dde34c252/thinc-6.10.2.tar.gz (1.2MB)\n",
      "\u001b[K    100% |████████████████████████████████| 1.2MB 188kB/s ta 0:00:01\n",
      "\u001b[?25hRequirement not upgraded as not directly required: plac<1.0.0,>=0.9.6 in ./anaconda/lib/python3.6/site-packages (from spacy) (0.9.6)\n",
      "Requirement not upgraded as not directly required: pathlib in ./anaconda/lib/python3.6/site-packages (from spacy) (1.0.1)\n",
      "Requirement not upgraded as not directly required: ujson>=1.35 in ./anaconda/lib/python3.6/site-packages (from spacy) (1.35)\n",
      "Requirement not upgraded as not directly required: dill<0.3,>=0.2 in ./anaconda/lib/python3.6/site-packages (from spacy) (0.2.7.1)\n",
      "Collecting regex==2017.4.5 (from spacy)\n",
      "\u001b[?25l  Downloading https://files.pythonhosted.org/packages/36/62/c0c0d762ffd4ffaf39f372eb8561b8d491a11ace5a7884610424a8b40f95/regex-2017.04.05.tar.gz (601kB)\n",
      "\u001b[K    100% |████████████████████████████████| 604kB 115kB/s ta 0:00:01\n",
      "\u001b[?25hRequirement not upgraded as not directly required: wrapt in ./anaconda/lib/python3.6/site-packages (from thinc<6.11.0,>=6.10.1->spacy) (1.10.11)\n",
      "Requirement not upgraded as not directly required: tqdm<5.0.0,>=4.10.0 in ./anaconda/lib/python3.6/site-packages (from thinc<6.11.0,>=6.10.1->spacy) (4.15.0)\n",
      "Collecting cytoolz<0.9,>=0.8 (from thinc<6.11.0,>=6.10.1->spacy)\n",
      "\u001b[?25l  Downloading https://files.pythonhosted.org/packages/0f/e6/ccc124714dcc1bd511e64ddafb4d5d20ada2533b92e3173a4cf09e0d0831/cytoolz-0.8.2.tar.gz (386kB)\n",
      "\u001b[K    100% |████████████████████████████████| 389kB 124kB/s ta 0:00:01\n",
      "\u001b[?25hRequirement not upgraded as not directly required: six<2.0.0,>=1.10.0 in ./anaconda/lib/python3.6/site-packages (from thinc<6.11.0,>=6.10.1->spacy) (1.11.0)\n",
      "Requirement not upgraded as not directly required: termcolor in ./anaconda/lib/python3.6/site-packages (from thinc<6.11.0,>=6.10.1->spacy) (1.1.0)\n",
      "Requirement not upgraded as not directly required: msgpack-python in ./anaconda/lib/python3.6/site-packages (from thinc<6.11.0,>=6.10.1->spacy) (0.5.4)\n",
      "Requirement not upgraded as not directly required: msgpack-numpy==0.4.1 in ./anaconda/lib/python3.6/site-packages (from thinc<6.11.0,>=6.10.1->spacy) (0.4.1)\n",
      "Requirement not upgraded as not directly required: toolz>=0.8.0 in ./anaconda/lib/python3.6/site-packages (from cytoolz<0.9,>=0.8->thinc<6.11.0,>=6.10.1->spacy) (0.9.0)\n",
      "Building wheels for collected packages: spacy, thinc, regex, cytoolz\n",
      "  Running setup.py bdist_wheel for spacy ... \u001b[?25ldone\n",
      "\u001b[?25h  Stored in directory: /Users/dahlmoon/Library/Caches/pip/wheels/fb/00/28/75c85d5135e7d9a100639137d1847d41e914ed16c962d467e4\n",
      "  Running setup.py bdist_wheel for thinc ... \u001b[?25ldone\n",
      "\u001b[?25h  Stored in directory: /Users/dahlmoon/Library/Caches/pip/wheels/d8/5c/3e/9acf5d9974fb1c9e7b467563ea5429c9325f67306e93147961\n",
      "  Running setup.py bdist_wheel for regex ... \u001b[?25ldone\n",
      "\u001b[?25h  Stored in directory: /Users/dahlmoon/Library/Caches/pip/wheels/75/07/38/3c16b529d50cb4e0cd3dbc7b75cece8a09c132692c74450b01\n",
      "  Running setup.py bdist_wheel for cytoolz ... \u001b[?25ldone\n",
      "\u001b[?25h  Stored in directory: /Users/dahlmoon/Library/Caches/pip/wheels/f8/b1/86/c92e4d36b690208fff8471711b85eaa6bc6d19860a86199a09\n",
      "Successfully built spacy thinc regex cytoolz\n",
      "\u001b[31men-core-web-sm 1.2.0 has requirement spacy<2.0.0,>=1.7.0, but you'll have spacy 2.0.11 which is incompatible.\u001b[0m\n",
      "Installing collected packages: cytoolz, thinc, regex, spacy\n",
      "  Found existing installation: cytoolz 0.9.0.1\n",
      "    Uninstalling cytoolz-0.9.0.1:\n",
      "      Successfully uninstalled cytoolz-0.9.0.1\n",
      "  Found existing installation: thinc 6.11.2\n",
      "    Uninstalling thinc-6.11.2:\n",
      "      Successfully uninstalled thinc-6.11.2\n",
      "  Found existing installation: regex 2017.7.28\n",
      "    Uninstalling regex-2017.7.28:\n",
      "      Successfully uninstalled regex-2017.7.28\n",
      "  Found existing installation: spacy 1.9.0\n",
      "    Uninstalling spacy-1.9.0:\n",
      "      Successfully uninstalled spacy-1.9.0\n",
      "Successfully installed cytoolz-0.8.2 regex-2017.4.5 spacy-2.0.11 thinc-6.10.2\n"
     ]
    }
   ],
   "source": [
    "!pip install --upgrade spacy"
   ]
  },
  {
   "cell_type": "code",
   "execution_count": 15,
   "metadata": {},
   "outputs": [
    {
     "ename": "SyntaxError",
     "evalue": "invalid syntax (<ipython-input-15-96953d1bf4e5>, line 2)",
     "output_type": "error",
     "traceback": [
      "\u001b[0;36m  File \u001b[0;32m\"<ipython-input-15-96953d1bf4e5>\"\u001b[0;36m, line \u001b[0;32m2\u001b[0m\n\u001b[0;31m    from multiprocess as Process\u001b[0m\n\u001b[0m                       ^\u001b[0m\n\u001b[0;31mSyntaxError\u001b[0m\u001b[0;31m:\u001b[0m invalid syntax\n"
     ]
    }
   ],
   "source": [
    "import os \n",
    "from multiprocess as Process"
   ]
  },
  {
   "cell_type": "code",
   "execution_count": 16,
   "metadata": {},
   "outputs": [
    {
     "ename": "ModuleNotFoundError",
     "evalue": "No module named 'mutiprocess'",
     "output_type": "error",
     "traceback": [
      "\u001b[0;31m---------------------------------------------------------------------------\u001b[0m",
      "\u001b[0;31mModuleNotFoundError\u001b[0m                       Traceback (most recent call last)",
      "\u001b[0;32m<ipython-input-16-8b63f158904a>\u001b[0m in \u001b[0;36m<module>\u001b[0;34m()\u001b[0m\n\u001b[0;32m----> 1\u001b[0;31m \u001b[0;32mimport\u001b[0m \u001b[0mmutiprocess\u001b[0m\u001b[0;34m\u001b[0m\u001b[0m\n\u001b[0m",
      "\u001b[0;31mModuleNotFoundError\u001b[0m: No module named 'mutiprocess'"
     ]
    }
   ],
   "source": [
    "import mutiprocess"
   ]
  },
  {
   "cell_type": "code",
   "execution_count": 17,
   "metadata": {},
   "outputs": [],
   "source": [
    "from multiprocessing import Process"
   ]
  },
  {
   "cell_type": "code",
   "execution_count": 18,
   "metadata": {},
   "outputs": [],
   "source": [
    "import os"
   ]
  },
  {
   "cell_type": "code",
   "execution_count": 23,
   "metadata": {},
   "outputs": [],
   "source": [
    "def doubler(number):\n",
    "    result = number *2\n",
    "    proc = os.getuid()\n",
    "    print(\"{0} doubled to {1} by process id {2} \".format(number, result, proc))"
   ]
  },
  {
   "cell_type": "code",
   "execution_count": 24,
   "metadata": {},
   "outputs": [
    {
     "name": "stdout",
     "output_type": "stream",
     "text": [
      "1 doubled to 2 by process id 501 \n",
      "2 doubled to 4 by process id 501 \n",
      "3 doubled to 6 by process id 501 \n",
      "4 doubled to 8 by process id 501 \n"
     ]
    }
   ],
   "source": [
    "if __name__ == \"__main__\" :\n",
    "    numbers = [ 1,2,3,4]\n",
    "    procs = []\n",
    "    for index, number in enumerate(numbers) :\n",
    "        proc = Process(target=doubler, args=(number,))\n",
    "        procs.append(proc)\n",
    "        proc.start()\n",
    "    for proc in procs :\n",
    "        proc.join()"
   ]
  },
  {
   "cell_type": "code",
   "execution_count": null,
   "metadata": {},
   "outputs": [],
   "source": [
    "os.g"
   ]
  }
 ],
 "metadata": {
  "kernelspec": {
   "display_name": "Python 3",
   "language": "python",
   "name": "python3"
  },
  "language_info": {
   "codemirror_mode": {
    "name": "ipython",
    "version": 3
   },
   "file_extension": ".py",
   "mimetype": "text/x-python",
   "name": "python",
   "nbconvert_exporter": "python",
   "pygments_lexer": "ipython3",
   "version": "3.6.5"
  }
 },
 "nbformat": 4,
 "nbformat_minor": 2
}
