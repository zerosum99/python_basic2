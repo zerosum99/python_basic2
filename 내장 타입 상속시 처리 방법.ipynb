{
 "cells": [
  {
   "cell_type": "markdown",
   "metadata": {},
   "source": [
    "## 내장 타입 상속시 처리 방식 \n",
    "\n",
    "    내장 타입은 값을 self 내부에 보관하므로 self로 처리해도 된다."
   ]
  },
  {
   "cell_type": "code",
   "execution_count": 1,
   "metadata": {
    "collapsed": false
   },
   "outputs": [
    {
     "name": "stdout",
     "output_type": "stream",
     "text": [
      "[1]\n"
     ]
    }
   ],
   "source": [
    "class L(list) :\n",
    "    def __init__(self) :\n",
    "        self = []\n",
    "        \n",
    "l = L()\n",
    "l.append(1)\n",
    "print(l)"
   ]
  },
  {
   "cell_type": "code",
   "execution_count": 8,
   "metadata": {
    "collapsed": false
   },
   "outputs": [
    {
     "name": "stdout",
     "output_type": "stream",
     "text": [
      "0\n",
      "10\n",
      "[<class '__main__.I'>, <class 'int'>, <class 'object'>]\n"
     ]
    }
   ],
   "source": [
    "class I(int) :\n",
    "    def __init__(self) :\n",
    "        self = 0\n",
    "        \n",
    "l = I()\n",
    "print(l)\n",
    "print(l+10)\n",
    "print(I.mro())"
   ]
  },
  {
   "cell_type": "markdown",
   "metadata": {},
   "source": [
    "### 내부 속성을 가지면 실제 연산자처리\n",
    "\n",
    "    상속을 받을 경우 명확한 연산자에 대해 명확히 처리해야 한다.\n",
    "    \n",
    "\n"
   ]
  },
  {
   "cell_type": "code",
   "execution_count": 16,
   "metadata": {
    "collapsed": false
   },
   "outputs": [
    {
     "name": "stdout",
     "output_type": "stream",
     "text": [
      "<class '__main__.INT'>\n",
      "10\n",
      "20\n",
      "[<class '__main__.INT'>, <class 'int'>, <class 'object'>]\n",
      "{'value': 10}\n"
     ]
    }
   ],
   "source": [
    "class INT(int) :\n",
    "    def __init__(self,value) :\n",
    "        self.value = value\n",
    "        \n",
    "l1 = INT(10)\n",
    "print(type(l1))\n",
    "print(l1)\n",
    "print(l1+10)\n",
    "print(INT.mro())\n",
    "print(l1.__dict__)"
   ]
  },
  {
   "cell_type": "code",
   "execution_count": 25,
   "metadata": {
    "collapsed": false
   },
   "outputs": [
    {
     "name": "stdout",
     "output_type": "stream",
     "text": [
      "{'value': 10}\n",
      "20\n",
      "{'value': 20}\n",
      "[<class '__main__.INT'>, <class 'int'>, <class 'object'>]\n"
     ]
    }
   ],
   "source": [
    "class INTA(int) :\n",
    "    def __init__(self,value) :\n",
    "        self.value = value\n",
    "        \n",
    "    def __add__(self, other) :\n",
    "        self.value += other\n",
    "        return self.value \n",
    "        \n",
    "l = INTA(10)\n",
    "print(l.__dict__)\n",
    "print(l + 10)\n",
    "print(l.__dict__)\n",
    "print(INT.mro())"
   ]
  },
  {
   "cell_type": "code",
   "execution_count": 7,
   "metadata": {
    "collapsed": false
   },
   "outputs": [
    {
     "name": "stdout",
     "output_type": "stream",
     "text": [
      "0.0\n",
      "10.0\n",
      "[<class '__main__.F'>, <class 'float'>, <class 'object'>]\n"
     ]
    }
   ],
   "source": [
    "class F(float) :\n",
    "    def __init__(self) :\n",
    "        self = 0.0\n",
    "        \n",
    "l = F()\n",
    "print(l)\n",
    "print(l+10)\n",
    "print(F.mro())"
   ]
  },
  {
   "cell_type": "code",
   "execution_count": null,
   "metadata": {
    "collapsed": true
   },
   "outputs": [],
   "source": []
  }
 ],
 "metadata": {
  "kernelspec": {
   "display_name": "Python [conda root]",
   "language": "python",
   "name": "conda-root-py"
  },
  "language_info": {
   "codemirror_mode": {
    "name": "ipython",
    "version": 3
   },
   "file_extension": ".py",
   "mimetype": "text/x-python",
   "name": "python",
   "nbconvert_exporter": "python",
   "pygments_lexer": "ipython3",
   "version": "3.5.2"
  }
 },
 "nbformat": 4,
 "nbformat_minor": 1
}
