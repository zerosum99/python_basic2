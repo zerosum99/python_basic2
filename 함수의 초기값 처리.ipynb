{
 "cells": [
  {
   "cell_type": "markdown",
   "metadata": {},
   "source": [
    "## 함수의 초기값\n",
    "\n",
    "     함수가 계속호출될 때마다 특정 매개변수에 함수를 정의할 때 기본 값을 저장할 수 있다.\n",
    "     초기값이 들어오면 함수 실행시 값을 넣지 않아도 실행된다.\n",
    "     \n",
    "     "
   ]
  },
  {
   "cell_type": "code",
   "execution_count": 3,
   "metadata": {
    "collapsed": false
   },
   "outputs": [
    {
     "name": "stdout",
     "output_type": "stream",
     "text": [
      "(10,)\n",
      "10\n"
     ]
    }
   ],
   "source": [
    "def f(a=10):\n",
    "    return a\n",
    "\n",
    "print(f.__defaults__)\n",
    "\n",
    "print(f())"
   ]
  },
  {
   "cell_type": "markdown",
   "metadata": {},
   "source": [
    "### 람다도 함수의 표현식이므로 초기값을 부여할 수 있다\n",
    "\n"
   ]
  },
  {
   "cell_type": "code",
   "execution_count": 7,
   "metadata": {
    "collapsed": false
   },
   "outputs": [
    {
     "data": {
      "text/plain": [
       "(10,)"
      ]
     },
     "execution_count": 7,
     "metadata": {},
     "output_type": "execute_result"
    }
   ],
   "source": [
    "\n",
    "(lambda x=10 : x).__defaults__"
   ]
  },
  {
   "cell_type": "code",
   "execution_count": 6,
   "metadata": {
    "collapsed": false
   },
   "outputs": [
    {
     "data": {
      "text/plain": [
       "10"
      ]
     },
     "execution_count": 6,
     "metadata": {},
     "output_type": "execute_result"
    }
   ],
   "source": [
    "(lambda x=10 : x)()"
   ]
  },
  {
   "cell_type": "markdown",
   "metadata": {},
   "source": [
    "###  초기값에는 변경가능한 데이터 타입을 넣지 않는다.\n",
    "\n",
    "\n",
    "    초기값을 사용하는 이유는 계속 함수가 호출되어도 동일한 처리를 유지하기 위함\n",
    "    \n",
    "    리스트를 넣어서 처리하면 함수 호출할 때마다 초기값이 변경이 되므로 원하지 않는 처리가 될 수 있다.\n",
    "    \n",
    "    "
   ]
  },
  {
   "cell_type": "code",
   "execution_count": 8,
   "metadata": {
    "collapsed": false
   },
   "outputs": [
    {
     "name": "stdout",
     "output_type": "stream",
     "text": [
      "([1],)\n",
      "([1, 1],)\n",
      "([1, 1, 1],)\n"
     ]
    }
   ],
   "source": [
    "def mu_f(x=[]) :\n",
    "    x.append(1)\n",
    "    \n",
    "    \n",
    "mu_f()\n",
    "print(mu_f.__defaults__)\n",
    "\n",
    "mu_f()\n",
    "print(mu_f.__defaults__)\n",
    "mu_f()\n",
    "print(mu_f.__defaults__)"
   ]
  },
  {
   "cell_type": "markdown",
   "metadata": {},
   "source": [
    "###  리스트 등이 항상 동일한 처리를 위해서는 함수 내부에서 초기화한 후에 처리가 필요\n",
    "\n",
    "\n",
    "    초기값을 None이나 특정 값을 지정해서 함수 내부에서 이 값을 비교한 후에 변수에 리스트를 할당해서 처리하면\n",
    "    함수가 호출할 때마다 동일한 처리결과를 보여준다.\n",
    "    "
   ]
  },
  {
   "cell_type": "code",
   "execution_count": 10,
   "metadata": {
    "collapsed": false
   },
   "outputs": [
    {
     "name": "stdout",
     "output_type": "stream",
     "text": [
      "[1]\n",
      "(None,)\n",
      "[1]\n",
      "(None,)\n",
      "[1]\n",
      "(None,)\n"
     ]
    }
   ],
   "source": [
    "def mu_f(x=None) :\n",
    "    if x == None :\n",
    "        x = []\n",
    "    x.append(1)\n",
    "    return x\n",
    "    \n",
    "    \n",
    "print(mu_f())\n",
    "print(mu_f.__defaults__)\n",
    "\n",
    "print(mu_f())\n",
    "print(mu_f.__defaults__)\n",
    "\n",
    "print(mu_f())\n",
    "print(mu_f.__defaults__)"
   ]
  },
  {
   "cell_type": "code",
   "execution_count": null,
   "metadata": {
    "collapsed": true
   },
   "outputs": [],
   "source": []
  }
 ],
 "metadata": {
  "kernelspec": {
   "display_name": "Python 3",
   "language": "python",
   "name": "python3"
  },
  "language_info": {
   "codemirror_mode": {
    "name": "ipython",
    "version": 3
   },
   "file_extension": ".py",
   "mimetype": "text/x-python",
   "name": "python",
   "nbconvert_exporter": "python",
   "pygments_lexer": "ipython3",
   "version": "3.6.0"
  }
 },
 "nbformat": 4,
 "nbformat_minor": 1
}
