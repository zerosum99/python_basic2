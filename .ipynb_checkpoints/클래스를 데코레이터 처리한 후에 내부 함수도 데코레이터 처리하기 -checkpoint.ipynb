{
 "cells": [
  {
   "cell_type": "code",
   "execution_count": 1,
   "metadata": {},
   "outputs": [],
   "source": [
    "from functools import wraps"
   ]
  },
  {
   "cell_type": "markdown",
   "metadata": {},
   "source": [
    "## 데코레이터 함수 정의"
   ]
  },
  {
   "cell_type": "markdown",
   "metadata": {},
   "source": [
    "### 함수 내부에 데코레이터를 지정해서 매소드를 데코레이팅 처리하기 "
   ]
  },
  {
   "cell_type": "code",
   "execution_count": 5,
   "metadata": {},
   "outputs": [],
   "source": [
    "def dec(msg='default'):\n",
    "    def decorator(klass):\n",
    "        old_foo = klass.foo\n",
    "        @wraps(klass.foo)\n",
    "        def decorated_foo(self, *args ,**kwargs):\n",
    "            print('@decorator pre %s' % msg)\n",
    "            old_foo(self, *args, **kwargs)\n",
    "            print('@decorator post %s' % msg)\n",
    "            \n",
    "        klass.foo = decorated_foo\n",
    "        return klass\n",
    "    \n",
    "    return decorator"
   ]
  },
  {
   "cell_type": "code",
   "execution_count": 6,
   "metadata": {},
   "outputs": [],
   "source": [
    "@dec('foo decorator')  # You must add parentheses now, even if they're empty\n",
    "class Foo(object):\n",
    "    def foo(self, *args, **kwargs):\n",
    "        print('foo.foo()')"
   ]
  },
  {
   "cell_type": "code",
   "execution_count": 7,
   "metadata": {},
   "outputs": [
    {
     "data": {
      "text/plain": [
       "<__main__.Foo at 0x112fd0128>"
      ]
     },
     "execution_count": 7,
     "metadata": {},
     "output_type": "execute_result"
    }
   ],
   "source": [
    "Foo()"
   ]
  },
  {
   "cell_type": "code",
   "execution_count": 8,
   "metadata": {},
   "outputs": [
    {
     "name": "stdout",
     "output_type": "stream",
     "text": [
      "@decorator pre foo decorator\n",
      "foo.foo()\n",
      "@decorator post foo decorator\n"
     ]
    }
   ],
   "source": [
    "Foo().foo()"
   ]
  },
  {
   "cell_type": "markdown",
   "metadata": {},
   "source": [
    "## 상속한 것도 데코레이터가 작성함 "
   ]
  },
  {
   "cell_type": "markdown",
   "metadata": {},
   "source": [
    "### super(현재 클래스, 현재 클래스의 객체)   ==> 결과가 상위 클래스:  "
   ]
  },
  {
   "cell_type": "code",
   "execution_count": 14,
   "metadata": {},
   "outputs": [],
   "source": [
    "@dec('subfoo decorator')\n",
    "class SubFoo(Foo):\n",
    "    def foo(self, *args, **kwargs):\n",
    "        \n",
    "        print(\". super. \", super(SubFoo, self))\n",
    "        print('subfoo.foo() pre')\n",
    "        super(SubFoo, self).foo(*args, **kwargs)\n",
    "        print('subfoo.foo() post')\n"
   ]
  },
  {
   "cell_type": "code",
   "execution_count": 15,
   "metadata": {},
   "outputs": [
    {
     "name": "stdout",
     "output_type": "stream",
     "text": [
      "@decorator pre subfoo decorator\n",
      ". super.  <super: <class 'SubFoo'>, <SubFoo object>>\n",
      "subfoo.foo() pre\n",
      "@decorator pre foo decorator\n",
      "foo.foo()\n",
      "@decorator post foo decorator\n",
      "subfoo.foo() post\n",
      "@decorator post subfoo decorator\n"
     ]
    }
   ],
   "source": [
    "SubFoo().foo()"
   ]
  },
  {
   "cell_type": "markdown",
   "metadata": {},
   "source": [
    "### 상속한 경우도 데코레이터가 함께 처리됨"
   ]
  },
  {
   "cell_type": "code",
   "execution_count": 12,
   "metadata": {},
   "outputs": [],
   "source": [
    "@dec('subsubfoo decorator')\n",
    "class SubSubFoo(SubFoo):\n",
    "    def foo(self, *args, **kwargs):\n",
    "        print('subsubfoo.foo() pre')\n",
    "        super(SubSubFoo, self).foo(*args, **kwargs)\n",
    "        print('subsubfoo.foo() post')"
   ]
  },
  {
   "cell_type": "code",
   "execution_count": 13,
   "metadata": {},
   "outputs": [
    {
     "name": "stdout",
     "output_type": "stream",
     "text": [
      "@decorator pre subsubfoo decorator\n",
      "subsubfoo.foo() pre\n",
      "@decorator pre subfoo decorator\n",
      "subfoo.foo() pre\n",
      "@decorator pre foo decorator\n",
      "foo.foo()\n",
      "@decorator post foo decorator\n",
      "subfoo.foo() post\n",
      "@decorator post subfoo decorator\n",
      "subsubfoo.foo() post\n",
      "@decorator post subsubfoo decorator\n"
     ]
    }
   ],
   "source": [
    "\n",
    "SubSubFoo().foo()"
   ]
  },
  {
   "cell_type": "code",
   "execution_count": null,
   "metadata": {},
   "outputs": [],
   "source": []
  }
 ],
 "metadata": {
  "kernelspec": {
   "display_name": "Python 3",
   "language": "python",
   "name": "python3"
  },
  "language_info": {
   "codemirror_mode": {
    "name": "ipython",
    "version": 3
   },
   "file_extension": ".py",
   "mimetype": "text/x-python",
   "name": "python",
   "nbconvert_exporter": "python",
   "pygments_lexer": "ipython3",
   "version": "3.7.3"
  }
 },
 "nbformat": 4,
 "nbformat_minor": 2
}
